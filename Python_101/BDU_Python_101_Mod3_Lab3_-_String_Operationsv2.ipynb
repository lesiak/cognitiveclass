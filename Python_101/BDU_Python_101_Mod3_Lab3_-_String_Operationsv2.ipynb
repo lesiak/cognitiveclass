{
 "cells": [
  {
   "cell_type": "markdown",
   "metadata": {},
   "source": [
    "<a href=\"https://www.bigdatauniversity.com\"><img src = \"https://ibm.box.com/shared/static/kpwal4mklabkeipypfo47rrm8xq0lslk.jpg\" width = 300, align = \"center\"></a>\n",
    "\n",
    "<h1 align=center><font size = 5>String Operations in PYTHON</font></h1>"
   ]
  },
  {
   "cell_type": "markdown",
   "metadata": {},
   "source": [
    "<br>"
   ]
  },
  {
   "cell_type": "markdown",
   "metadata": {},
   "source": [
    "This notebook will provide information regarding reading text files and performing various operations on Strings."
   ]
  },
  {
   "cell_type": "markdown",
   "metadata": {},
   "source": [
    "## Table of Contents\n",
    "\n",
    "\n",
    "<div class=\"alert alert-block alert-info\" style=\"margin-top: 20px\">\n",
    "<li><a href=\"#ref0\">About the Dataset</a></li>\n",
    "<li><a href=\"#ref1\">Reading Text Files</a></li>\n",
    "<li><a href=\"#ref2\">String Operations</a></li>\n",
    "<br>\n",
    "<p></p>\n",
    "Estimated Time Needed: <strong>15 min</strong>\n",
    "</div>\n",
    "\n",
    "<hr>"
   ]
  },
  {
   "cell_type": "markdown",
   "metadata": {},
   "source": [
    "<a id=\"ref0\"></a>\n",
    "<h2 align=center>About the Dataset</h2>"
   ]
  },
  {
   "cell_type": "markdown",
   "metadata": {},
   "source": [
    "In this module, we are going to use the ``Thriller.txt`` file. This file contains text data which is basically summary of the **Thriller** album and we are going to perform various operations on this data.\n",
    "\n",
    "This is how our data looks:"
   ]
  },
  {
   "cell_type": "markdown",
   "metadata": {},
   "source": [
    "<font face=\"courier new\" size=\"2\">Thriller is the sixth studio album by the American singer Michael Jackson, released on November 30, 1982 by Epic Records. It is the follow-up to Jackson's critically and commercially successful fifth studio album Off the Wall (1979). Thriller explores genres similar to those of Off the Wall, including pop, post-disco, rock and funk. Recording sessions for Thriller took place from April to November 1982 at Westlake Recording Studios in Los Angeles, California with a production budget of \\$750,000 (US \\$1,842,155 in 2016 dollars[1]), assisted by producer Quincy Jones. Of the album's nine tracks, four were written by Jackson. Seven singles were released from the album, all of which reached the top 10 on the Billboard Hot 100 chart. Three of the singles had music videos released. \"Baby Be Mine\" and \"The Lady in My Life\" were the only tracks that were not released as singles from the album.\n",
    "\n",
    "[1] Federal Reserve Bank of Minneapolis Community Development Project. \"Consumer Price Index (estimate) 1800–\". Federal Reserve Bank of Minneapolis. Retrieved October 21, 2016.</font>\n",
    "\n",
    "Source: https://en.wikipedia.org/wiki/Thriller_(Michael_Jackson_album)"
   ]
  },
  {
   "cell_type": "markdown",
   "metadata": {},
   "source": [
    "To load the data into the workbench, first run the code below."
   ]
  },
  {
   "cell_type": "markdown",
   "metadata": {},
   "source": [
    "<hr>"
   ]
  },
  {
   "cell_type": "markdown",
   "metadata": {},
   "source": [
    "<a id=\"ref1\"></a>\n",
    "<h2 align=center>Reading Text Files</h2>"
   ]
  },
  {
   "cell_type": "markdown",
   "metadata": {},
   "source": [
    "First we use `wget -O destination source` to download the text file from the web. We store this file to the path `/resources/data/Thriller.txt`\n",
    "\n",
    "After storing the file on disk, we use `open(path,mode)` to return a file object. Mode declares what permissions the file object has, i.e. Read/Write `rw` etc.\n",
    "\n",
    "We store the file object to a variable named `file`. "
   ]
  },
  {
   "cell_type": "code",
   "execution_count": null,
   "metadata": {
    "collapsed": false,
    "scrolled": true
   },
   "outputs": [],
   "source": [
    "!wget -O Thriller.txt https://ibm.box.com/shared/static/cp4rkaw1pj0ggi3b8rxoxo9fvs4jecak.txt\n",
    "file = open(\"Thriller.txt\",\"rw+\")\n",
    "print(\"Name of the file:\" , file.name)"
   ]
  },
  {
   "cell_type": "markdown",
   "metadata": {},
   "source": [
    "To read the file, we envoke `readlines()` on the file variable. Lets store this text file to the `summary` variable. Next, lets print out the text."
   ]
  },
  {
   "cell_type": "code",
   "execution_count": null,
   "metadata": {
    "collapsed": false,
    "scrolled": true
   },
   "outputs": [],
   "source": [
    "summary = file.readlines()\n",
    "print \"Read Line: %s\" % (summary) "
   ]
  },
  {
   "cell_type": "markdown",
   "metadata": {},
   "source": [
    "It's always good practice to close a file after you're done reading it. We invoke the `close()` command to do that. "
   ]
  },
  {
   "cell_type": "code",
   "execution_count": null,
   "metadata": {
    "collapsed": false
   },
   "outputs": [],
   "source": [
    "file.close()"
   ]
  },
  {
   "cell_type": "markdown",
   "metadata": {},
   "source": [
    "<hr>"
   ]
  },
  {
   "cell_type": "markdown",
   "metadata": {},
   "source": [
    "<a id=\"ref2\"></a>\n",
    "<h2 align=center>String Operations</h2>"
   ]
  },
  {
   "cell_type": "markdown",
   "metadata": {},
   "source": [
    "There are many string operation methods in Python that can be used to manipulate the data. We are going to use some basic string operations on the data that we read before. \n",
    "\n",
    "In this lession, we go over the following: \n",
    "- len()\n",
    "- lower(),upper()\n",
    "- replace()\n",
    "- split()\n",
    "- count()\n",
    "- sort()\n",
    "- String slicing"
   ]
  },
  {
   "cell_type": "code",
   "execution_count": null,
   "metadata": {
    "collapsed": true
   },
   "outputs": [],
   "source": []
  },
  {
   "cell_type": "markdown",
   "metadata": {},
   "source": [
    "<h3 style=\"font-size:120%\">len()</h3>"
   ]
  },
  {
   "cell_type": "markdown",
   "metadata": {},
   "source": [
    "The first function is ``len()`` which will return the total number of characters in the given string. Let's find out how many characters are there in the first line of the ``summary`` variable."
   ]
  },
  {
   "cell_type": "code",
   "execution_count": null,
   "metadata": {
    "collapsed": false
   },
   "outputs": [],
   "source": [
    "print summary[0]\n",
    "len(summary[0])\n",
    "\n",
    "              "
   ]
  },
  {
   "cell_type": "markdown",
   "metadata": {},
   "source": [
    "<br>"
   ]
  },
  {
   "cell_type": "markdown",
   "metadata": {},
   "source": [
    "<h3 style=\"font-size:120%\">upper()</h3>"
   ]
  },
  {
   "cell_type": "markdown",
   "metadata": {},
   "source": [
    "Sometimes we need the whole string to be in Upper Case. To do so, there is a function called ``upper()`` in Python, which takes a string as input and provides the whole string in upper case as output."
   ]
  },
  {
   "cell_type": "code",
   "execution_count": null,
   "metadata": {
    "collapsed": false
   },
   "outputs": [],
   "source": [
    "to_upper = summary[0].upper()\n",
    "to_upper"
   ]
  },
  {
   "cell_type": "markdown",
   "metadata": {},
   "source": [
    "In the above code block, we converted the summary text to all uppercase."
   ]
  },
  {
   "cell_type": "markdown",
   "metadata": {},
   "source": [
    "<br>"
   ]
  },
  {
   "cell_type": "markdown",
   "metadata": {},
   "source": [
    "<h3 style=\"font-size:120%\">lower()</h3>"
   ]
  },
  {
   "cell_type": "markdown",
   "metadata": {},
   "source": [
    "Similarly, the **lower()** function can be used to convert whole string into lower case. Let's convert the same string that we converted in uppercase, to lowercase."
   ]
  },
  {
   "cell_type": "code",
   "execution_count": null,
   "metadata": {
    "collapsed": false
   },
   "outputs": [],
   "source": [
    "to_lower = summary[0].lower()\n",
    "to_lower"
   ]
  },
  {
   "cell_type": "markdown",
   "metadata": {},
   "source": [
    "We can clearly see the difference between the outputs of last two functions."
   ]
  },
  {
   "cell_type": "markdown",
   "metadata": {},
   "source": [
    "<h3 style=\"font-size:120%\">replace()</h3>"
   ]
  },
  {
   "cell_type": "markdown",
   "metadata": {},
   "source": [
    "What if we want to replace characters in a string?\n",
    "\n",
    "This operation can also be performed in Python using the ``replace()`` function which takes two arguments. The first argument is the characters which we want to replace in the string and the second argument is the new characters.\n",
    "\n",
    "Let's replace **white spaces** in the string with the **Hyphens (“-”)** in the first element of the ``summary`` variable. "
   ]
  },
  {
   "cell_type": "code",
   "execution_count": null,
   "metadata": {
    "collapsed": false
   },
   "outputs": [],
   "source": [
    "replace_chars = summary[0].replace(\" \", \"-\")\n",
    "replace_chars"
   ]
  },
  {
   "cell_type": "markdown",
   "metadata": {},
   "source": [
    "### count()"
   ]
  },
  {
   "cell_type": "markdown",
   "metadata": {},
   "source": [
    "We can count occurrences of words in strings using `count()`. Let's find out how many times the word \"Thriller\" occurs in `summary`."
   ]
  },
  {
   "cell_type": "code",
   "execution_count": null,
   "metadata": {
    "collapsed": false
   },
   "outputs": [],
   "source": [
    "summary[0].count('Thriller')"
   ]
  },
  {
   "cell_type": "markdown",
   "metadata": {},
   "source": [
    "<h3 style=\"font-size:120%\">split()</h3>"
   ]
  },
  {
   "cell_type": "markdown",
   "metadata": {},
   "source": [
    "Previously, we learned that we can read files line-by-line using the ``readlines()`` function. But what if we want to split the given string word-by-word?\n",
    "\n",
    "This can be done using ``split()`` method. Let's split the string according to the white spaces."
   ]
  },
  {
   "cell_type": "code",
   "execution_count": null,
   "metadata": {
    "collapsed": false
   },
   "outputs": [],
   "source": [
    "word_list = summary[0].split()\n",
    "word_list"
   ]
  },
  {
   "cell_type": "markdown",
   "metadata": {},
   "source": [
    "<h3 style=\"font-size:120%\">sort()</h3>"
   ]
  },
  {
   "cell_type": "markdown",
   "metadata": {},
   "source": [
    "Sorting is also possible in Python. Let's use ``sort()`` method to sort elements of the ``word_list`` in ascending order."
   ]
  },
  {
   "cell_type": "code",
   "execution_count": null,
   "metadata": {
    "collapsed": false
   },
   "outputs": [],
   "source": [
    "word_list.sort()\n",
    "word_list"
   ]
  },
  {
   "cell_type": "markdown",
   "metadata": {},
   "source": [
    "<h3 style=\"font-size:120%\">Slicing Lists(Slicing)</h3>"
   ]
  },
  {
   "cell_type": "markdown",
   "metadata": {},
   "source": [
    "We can slice the word list, to return a subsection of the list. \n",
    "\n",
    "This is done by using `word_list[start:end]`\n",
    "\n",
    "In our example, we return all list items from position 8 to 29. We store this new list into the variable `substring`."
   ]
  },
  {
   "cell_type": "code",
   "execution_count": null,
   "metadata": {
    "collapsed": false,
    "scrolled": true
   },
   "outputs": [],
   "source": [
    "substring = word_list[8:30]\n",
    "substring"
   ]
  },
  {
   "cell_type": "markdown",
   "metadata": {},
   "source": [
    "<br>"
   ]
  },
  {
   "cell_type": "markdown",
   "metadata": {},
   "source": [
    "<hr>\n",
    "### About the Authors:  \n",
    "\n",
    "This notebook was updated by  [Joseph Santarcangelo]( https://www.linkedin.com/in/joseph-s-50398b136/) and [John Gerassimou]( https://www.linkedin.com/in/johngerassimou/) .\n",
    "\n",
    "\n",
    "\n",
    "Hi! It's [Agatha Colangelo](https://www.linkedin.com/in/agathacolangelo), [Hima Vasudevan](https://www.linkedin.com/in/himavasudevan7920), and [Iqbal Singh](https://ca.linkedin.com/in/iqbalsingh15), the authors of this notebook. We hope you found Python easy to learn! There's lots more to learn about Python but you're well on your way. Feel free to connect with us if you have any questions."
   ]
  },
  {
   "cell_type": "markdown",
   "metadata": {},
   "source": [
    "<hr>\n",
    "Copyright &copy; 2016 [Big Data University](https://bigdatauniversity.com/?utm_source=bducopyrightlink&utm_medium=dswb&utm_campaign=bdu). This notebook and its source code are released under the terms of the [MIT License](https://bigdatauniversity.com/mit-license/)."
   ]
  }
 ],
 "metadata": {
  "kernelspec": {
   "display_name": "Python 2",
   "language": "python",
   "name": "python2"
  },
  "language_info": {
   "codemirror_mode": {
    "name": "ipython",
    "version": 2
   },
   "file_extension": ".py",
   "mimetype": "text/x-python",
   "name": "python",
   "nbconvert_exporter": "python",
   "pygments_lexer": "ipython2",
   "version": "2.7.12"
  },
  "widgets": {
   "state": {},
   "version": "1.1.2"
  }
 },
 "nbformat": 4,
 "nbformat_minor": 0
}
